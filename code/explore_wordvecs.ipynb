{
 "cells": [
  {
   "cell_type": "code",
   "execution_count": 27,
   "metadata": {
    "ExecuteTime": {
     "end_time": "2019-09-04T20:46:47.388931Z",
     "start_time": "2019-09-04T20:46:47.383464Z"
    }
   },
   "outputs": [],
   "source": [
    "import numpy as np\n",
    "from nltk import word_tokenize\n",
    "from nltk.corpus import stopwords\n",
    "from nltk.stem.porter import PorterStemmer"
   ]
  },
  {
   "cell_type": "code",
   "execution_count": 2,
   "metadata": {
    "ExecuteTime": {
     "end_time": "2019-09-04T20:16:37.221879Z",
     "start_time": "2019-09-04T20:16:37.216352Z"
    }
   },
   "outputs": [],
   "source": [
    "def load_word2vec(filepath):\n",
    "    word_to_vec = {}\n",
    "    for line in open(filepath, encoding='utf8'):\n",
    "        splitted = line.split(' ')\n",
    "        word = splitted[0]\n",
    "        vec = np.array([float(n) for n in splitted[1:]])\n",
    "        word_to_vec[word] = vec\n",
    "        \n",
    "    return word_to_vec"
   ]
  },
  {
   "cell_type": "code",
   "execution_count": 3,
   "metadata": {
    "ExecuteTime": {
     "end_time": "2019-09-04T20:20:22.796531Z",
     "start_time": "2019-09-04T20:16:37.886266Z"
    }
   },
   "outputs": [],
   "source": [
    "word_to_vec = load_word2vec('/mnt/nas/GrimaRepo/aespinosa/glove.840B.300d.txt')"
   ]
  },
  {
   "cell_type": "code",
   "execution_count": 4,
   "metadata": {
    "ExecuteTime": {
     "end_time": "2019-09-04T20:20:22.878580Z",
     "start_time": "2019-09-04T20:20:22.801100Z"
    }
   },
   "outputs": [],
   "source": [
    "labels = [line.strip() for line in open('/mnt/nas/GrimaRepo/aespinosa/label_names_10percent.txt')]"
   ]
  },
  {
   "cell_type": "code",
   "execution_count": 21,
   "metadata": {
    "ExecuteTime": {
     "end_time": "2019-09-04T20:39:25.991317Z",
     "start_time": "2019-09-04T20:39:25.980445Z"
    }
   },
   "outputs": [],
   "source": [
    "# Print non-existing words\n",
    "label_words = []\n",
    "for label in labels:\n",
    "    for word in word_tokenize(label):\n",
    "        word = word.lower()\n",
    "        if word not in word_to_vec:\n",
    "            print(word)\n",
    "        if word not in label_words:\n",
    "            label_words.append(word)"
   ]
  },
  {
   "cell_type": "code",
   "execution_count": 28,
   "metadata": {
    "ExecuteTime": {
     "end_time": "2019-09-04T20:46:49.079089Z",
     "start_time": "2019-09-04T20:46:49.061148Z"
    }
   },
   "outputs": [],
   "source": [
    "new_label_words = label_words\n",
    "\n",
    "# Remove stopwords\n",
    "new_label_words = list(filter(lambda x: x not in stopwords.words('english'), new_label_words))\n",
    "\n",
    "# Lemmatize\n",
    "stemmer = PorterStemmer()\n",
    "new_label_words = list(map(stemmer.stem, new_label_words))"
   ]
  },
  {
   "cell_type": "code",
   "execution_count": 30,
   "metadata": {
    "ExecuteTime": {
     "end_time": "2019-09-04T20:51:17.031112Z",
     "start_time": "2019-09-04T20:51:17.026281Z"
    }
   },
   "outputs": [],
   "source": [
    "for word in new_label_words:\n",
    "    if word not in word_to_vec:\n",
    "        print(word)"
   ]
  },
  {
   "cell_type": "code",
   "execution_count": null,
   "metadata": {},
   "outputs": [],
   "source": []
  }
 ],
 "metadata": {
  "kernelspec": {
   "display_name": "Python 3",
   "language": "python",
   "name": "python3"
  },
  "language_info": {
   "codemirror_mode": {
    "name": "ipython",
    "version": 3
   },
   "file_extension": ".py",
   "mimetype": "text/x-python",
   "name": "python",
   "nbconvert_exporter": "python",
   "pygments_lexer": "ipython3",
   "version": "3.6.8"
  }
 },
 "nbformat": 4,
 "nbformat_minor": 2
}
