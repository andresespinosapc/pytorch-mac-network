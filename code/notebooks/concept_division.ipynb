{
 "cells": [
  {
   "cell_type": "code",
   "execution_count": 1,
   "metadata": {
    "ExecuteTime": {
     "end_time": "2019-10-17T20:33:28.706275Z",
     "start_time": "2019-10-17T20:33:23.080528Z"
    }
   },
   "outputs": [],
   "source": [
    "import sys\n",
    "import os\n",
    "import pickle\n",
    "import pandas as pd\n",
    "import numpy as np\n",
    "\n",
    "root_path = '../..'\n",
    "data_path = os.path.join(root_path, 'data')\n",
    "sys.path.append(os.path.join(root_path, 'code'))\n",
    "\n",
    "from config import cfg\n",
    "from utils import preprocess_sentence"
   ]
  },
  {
   "cell_type": "code",
   "execution_count": 2,
   "metadata": {
    "ExecuteTime": {
     "end_time": "2019-10-17T20:33:56.786046Z",
     "start_time": "2019-10-17T20:33:56.675575Z"
    }
   },
   "outputs": [],
   "source": [
    "col_names = ['label', 'action', 'obj1', 'obj1_mod', 'relation', 'obj2', 'obj2_mod', 'effect', 'act_mod1', 'act_mod2', 'other']\n",
    "df = pd.read_csv(os.path.join(data_path, 'concept_class.csv'), sep=';', header=0, names=col_names)"
   ]
  },
  {
   "cell_type": "code",
   "execution_count": 3,
   "metadata": {
    "ExecuteTime": {
     "end_time": "2019-10-17T20:33:57.873368Z",
     "start_time": "2019-10-17T20:33:57.868366Z"
    }
   },
   "outputs": [],
   "source": [
    "cfg.PREPROCESS.WORD_TOKENIZE = False\n",
    "cfg.PREPROCESS.REMOVE_STOPWORDS = False\n",
    "cfg.PREPROCESS.LEMMATIZE = False"
   ]
  },
  {
   "cell_type": "code",
   "execution_count": 4,
   "metadata": {
    "ExecuteTime": {
     "end_time": "2019-10-17T20:33:58.571737Z",
     "start_time": "2019-10-17T20:33:58.533704Z"
    }
   },
   "outputs": [],
   "source": [
    "selected_df = df[['action', 'relation', 'effect', 'act_mod1']]"
   ]
  },
  {
   "cell_type": "code",
   "execution_count": 5,
   "metadata": {
    "ExecuteTime": {
     "end_time": "2019-10-17T20:34:04.025852Z",
     "start_time": "2019-10-17T20:34:04.011280Z"
    }
   },
   "outputs": [],
   "source": [
    "synonyms_list = [\n",
    "    # Actions\n",
    "    ['putting', 'put'],\n",
    "    ['wiping', 'wipe'],\n",
    "    ['twisting', 'twist'],\n",
    "    ['closing', 'close'],\n",
    "    ['opening', 'open'],\n",
    "    ['poking', 'poke'],\n",
    "    ['pouring', 'pour'],\n",
    "    ['scooping up', 'scoop up'],\n",
    "    ['spreading', 'spread'],\n",
    "    ['sprinkling', 'sprinkle'],\n",
    "    ['squeezing', 'squeeze'],\n",
    "    ['taking', 'take'],\n",
    "    ['throwing', 'throw'],\n",
    "    ['turning', 'turn'],\n",
    "    ['attaching', 'attach'],\n",
    "    ['bending', 'bend'],\n",
    "    # Relations\n",
    "    ['across', 'along'],\n",
    "    ['behind', 'from behind of'],\n",
    "    ['from left to right', 'from right to left'],\n",
    "    ['in', 'is inside'],\n",
    "    # Effect\n",
    "    ['slide down', 'until it starts sliding down', 'glide down', 'so it slides down'],\n",
    "    [\n",
    "        'until it falls down', 'it falling down', 'so that it falls over',\n",
    "        'so that it falls off the table', 'so it is not supported and falls down',\n",
    "        'so it falls down', 'so it falls on its side', 'until it falls off',\n",
    "        'so something in it falls out', 'and letting it fall',\n",
    "    ],\n",
    "    ['so the stack collapses', 'the stack collapsing'],\n",
    "    ['so it spins', 'so that it spins around'],\n",
    "    ['so it slightly moves', 'so that it slightly moves'],\n",
    "    ['so it stays where it is', 'but nothing happens', 'so nothing happens'],\n",
    "    # Action modifier 1\n",
    "    [\n",
    "        'doesn\\'t',\n",
    "        'pretending to', 'pretending or failing to', 'failing to',\n",
    "        'pretending or trying and failing to', 'trying but failing to',\n",
    "        'trying to',\n",
    "        'without', 'but not enough for it to', 'but doesn\\'t', 'but it doesn\\'t',\n",
    "        'but pulling it right out as you remove your hand',\n",
    "        'so lightly that it doesn\\'t or almost doesn\\'t move',\n",
    "        'doesn\\'t',\n",
    "    ],\n",
    "]\n",
    "synonyms = {}\n",
    "for syn in synonyms_list:\n",
    "    base_term = syn[0]\n",
    "    for term in syn[1:]:\n",
    "        synonyms[term] = base_term"
   ]
  },
  {
   "cell_type": "code",
   "execution_count": 6,
   "metadata": {
    "ExecuteTime": {
     "end_time": "2019-10-17T20:34:06.067591Z",
     "start_time": "2019-10-17T20:34:06.047242Z"
    }
   },
   "outputs": [],
   "source": [
    "final_df = pd.DataFrame([])\n",
    "final_df['label'] = df['label']\n",
    "unique_concepts = []\n",
    "for col_name in selected_df:\n",
    "    col = selected_df[col_name]\n",
    "    col = list(map(lambda x: synonyms[x] if x in synonyms else x, col))\n",
    "    col = list(map(lambda x: ' '.join(preprocess_sentence(cfg, x)) if not pd.isna(x) else x, col))\n",
    "    final_df[col_name] = col\n",
    "    col_concepts = np.unique(list(filter(lambda x: not pd.isna(x), col))).tolist()\n",
    "    if np.nan in col:\n",
    "        col_concepts = [np.nan] + col_concepts\n",
    "    unique_concepts.append(col_concepts)"
   ]
  },
  {
   "cell_type": "code",
   "execution_count": 9,
   "metadata": {
    "ExecuteTime": {
     "end_time": "2019-10-17T20:34:06.712740Z",
     "start_time": "2019-10-17T20:34:06.707018Z"
    }
   },
   "outputs": [],
   "source": [
    "concept_to_idx_list = []\n",
    "for concept_list in unique_concepts:\n",
    "    concept_to_idx = {}\n",
    "    for i, concept in enumerate(concept_list):\n",
    "        concept_to_idx[concept] = i\n",
    "    concept_to_idx_list.append(concept_to_idx)"
   ]
  },
  {
   "cell_type": "code",
   "execution_count": 10,
   "metadata": {
    "ExecuteTime": {
     "end_time": "2019-10-17T20:34:07.257525Z",
     "start_time": "2019-10-17T20:34:07.221182Z"
    }
   },
   "outputs": [],
   "source": [
    "label_to_concepts = {}\n",
    "for i, row in final_df.iterrows():\n",
    "    label_to_concepts[row[0]] = list(row.tolist()[1:])"
   ]
  },
  {
   "cell_type": "code",
   "execution_count": 11,
   "metadata": {
    "ExecuteTime": {
     "end_time": "2019-10-17T20:34:07.712232Z",
     "start_time": "2019-10-17T20:34:07.707756Z"
    }
   },
   "outputs": [],
   "source": [
    "label_to_idxs = {}\n",
    "for label in label_to_concepts:\n",
    "    label_to_idxs[label] = list(map(lambda x: concept_to_idx_list[x[0]][x[1]], enumerate(label_to_concepts[label])))"
   ]
  },
  {
   "cell_type": "code",
   "execution_count": 12,
   "metadata": {
    "ExecuteTime": {
     "end_time": "2019-10-17T20:34:14.042386Z",
     "start_time": "2019-10-17T20:34:14.035899Z"
    }
   },
   "outputs": [],
   "source": [
    "pickle.dump(label_to_concepts, open(os.path.join(data_path, 'label_to_concepts.pkl'), 'wb'))"
   ]
  },
  {
   "cell_type": "code",
   "execution_count": 13,
   "metadata": {
    "ExecuteTime": {
     "end_time": "2019-10-17T20:34:15.331337Z",
     "start_time": "2019-10-17T20:34:15.055077Z"
    }
   },
   "outputs": [],
   "source": [
    "import h5py"
   ]
  },
  {
   "cell_type": "code",
   "execution_count": 15,
   "metadata": {
    "ExecuteTime": {
     "end_time": "2019-10-17T20:35:03.907361Z",
     "start_time": "2019-10-17T20:35:03.873638Z"
    }
   },
   "outputs": [],
   "source": [
    "mul_concepts_per_label = []\n",
    "for line in open(os.path.join(data_path, 'label_names_full.txt')):\n",
    "    mul_concepts_per_label.append(label_to_idxs[line.strip()])\n",
    "mul_concepts_per_label = np.array(mul_concepts_per_label)\n",
    "\n",
    "with h5py.File(os.path.join(data_path, 'lab_con_label_names_full_ntok_nstop_nlem.h5'), 'a') as f:\n",
    "    f.create_dataset('mul_concepts_per_label', data=mul_concepts_per_label)"
   ]
  },
  {
   "cell_type": "markdown",
   "metadata": {},
   "source": [
    "## Class distribution"
   ]
  },
  {
   "cell_type": "code",
   "execution_count": 30,
   "metadata": {},
   "outputs": [],
   "source": [
    "import json\n",
    "from collections import Counter\n",
    "from functools import reduce\n",
    "import matplotlib.pyplot as plt"
   ]
  },
  {
   "cell_type": "code",
   "execution_count": 13,
   "metadata": {},
   "outputs": [],
   "source": [
    "train_json = json.load(open('/home/andres/workspace/something-something-v2-train.json', encoding='utf8'))"
   ]
  },
  {
   "cell_type": "code",
   "execution_count": 16,
   "metadata": {},
   "outputs": [],
   "source": [
    "cls_counter = Counter()\n",
    "for elem in train_json:\n",
    "    cls = elem['template'].replace('[', '').replace(']', '')\n",
    "    cls_counter[cls] += 1"
   ]
  },
  {
   "cell_type": "code",
   "execution_count": 22,
   "metadata": {},
   "outputs": [
    {
     "data": {
      "text/plain": [
       "Index(['label', 'action', 'relation', 'effect', 'act_mod1'], dtype='object')"
      ]
     },
     "execution_count": 22,
     "metadata": {},
     "output_type": "execute_result"
    }
   ],
   "source": [
    "final_df.columns"
   ]
  },
  {
   "cell_type": "code",
   "execution_count": 38,
   "metadata": {},
   "outputs": [],
   "source": [
    "def plot_column_distribution(col_name):\n",
    "    count = final_df.groupby(col_name)['label'].apply(lambda x: reduce(lambda prev, new: prev + cls_counter[new], x, 0))\n",
    "    count = count.sort_values(ascending=False)\n",
    "    plt.bar(range(len(count)), count / sum(count))\n",
    "    plt.title('S2S {} distribution'.format(col_name))"
   ]
  },
  {
   "cell_type": "code",
   "execution_count": 66,
   "metadata": {},
   "outputs": [
    {
     "data": {
      "image/png": "[encoded data removed]",
      "text/plain": [
       "<Figure size 1080x720 with 4 Axes>"
      ]
     },
     "metadata": {
      "needs_background": "light"
     },
     "output_type": "display_data"
    }
   ],
   "source": [
    "plt.rcParams['figure.figsize'] = (15, 10)\n",
    "plt.subplot(221)\n",
    "plot_column_distribution('action')\n",
    "plt.subplot(222)\n",
    "plot_column_distribution('relation')\n",
    "plt.subplot(223)\n",
    "plot_column_distribution('effect')\n",
    "plt.subplot(224)\n",
    "plot_column_distribution('label')"
   ]
  }
 ],
 "metadata": {
  "kernelspec": {
   "display_name": "Python 3",
   "language": "python",
   "name": "python3"
  },
  "language_info": {
   "codemirror_mode": {
    "name": "ipython",
    "version": 3
   },
   "file_extension": ".py",
   "mimetype": "text/x-python",
   "name": "python",
   "nbconvert_exporter": "python",
   "pygments_lexer": "ipython3",
   "version": "3.6.6"
  }
 },
 "nbformat": 4,
 "nbformat_minor": 2
}
